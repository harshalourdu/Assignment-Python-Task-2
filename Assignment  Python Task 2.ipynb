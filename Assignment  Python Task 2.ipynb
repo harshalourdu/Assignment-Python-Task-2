{
 "cells": [
  {
   "cell_type": "markdown",
   "metadata": {},
   "source": [
    "Q1. You are writing code for a company. The requirement of the company is that you create a python\n",
    "function that will check whether the password entered by the user is correct or not. The function should\n",
    "take the password as input and return the string “Valid Password” if the entered password follows the\n",
    "below-given password guidelines else it should return “Invalid Password”.\n",
    "Note: 1. The Password should contain at least two uppercase letters and at least two lowercase letters.\n",
    "2. The Password should contain at least a number and three special characters.\n",
    "3. The length of the password should be 10 characters long.\n",
    "\n",
    "\n",
    "\n",
    "Q2. Solve the below-given questions using at least one of the following:\n",
    "1. Lambda function\n",
    "2. Filter function\n",
    "3. Map function\n",
    "4. List ComprehensioI\n",
    "B Check if the string starts with a particular letterY\n",
    "B Check if the string is numericY\n",
    "B Sort a list of tuples having fruit names and their quantity. [(\"mango\",99),(\"orange\",80), (\"grapes\", 1000)-\n",
    "B Find the squares of numbers from 1 to 10Y\n",
    "B Find the cube root of numbers from 1 to 10Y\n",
    "B Check if a given number is evenY\n",
    "B Filter odd numbers from the given list.\n",
    "[1,2,3,4,5,6,7,8,9,10-\n",
    "B Sort a list of integers into positive and negative integers lists.\n",
    "[1,2,3,4,5,6,-1,-2,-3,-4,-5,0]"
   ]
  },
  {
   "cell_type": "markdown",
   "metadata": {},
   "source": []
  },
  {
   "cell_type": "markdown",
   "metadata": {},
   "source": []
  },
  {
   "cell_type": "code",
   "execution_count": 1,
   "metadata": {},
   "outputs": [
    {
     "name": "stdout",
     "output_type": "stream",
     "text": [
      "Invalid Password\n"
     ]
    }
   ],
   "source": [
    "# 1. \n",
    "\n",
    "import re\n",
    "\n",
    "def validate_password(password):\n",
    "    if (len(password) == 10 and\n",
    "        len(re.findall(r'[A-Z]', password)) >= 2 and\n",
    "        len(re.findall(r'[a-z]', password)) >= 2 and\n",
    "        len(re.findall(r'\\d', password)) >= 1 and\n",
    "        len(re.findall(r'[!@#$%^&*(),.?\":{}|<>]', password)) >= 3):\n",
    "        return \"Valid Password\"\n",
    "    return \"Invalid Password\"\n",
    "\n",
    "# Example Usage\n",
    "password_input = \"Aa1@#@#bc\"\n",
    "result = validate_password(password_input)\n",
    "print(result)  # Output: \"Valid Password\" or \"Invalid Password\"\n"
   ]
  },
  {
   "cell_type": "markdown",
   "metadata": {},
   "source": []
  },
  {
   "cell_type": "markdown",
   "metadata": {},
   "source": []
  },
  {
   "cell_type": "code",
   "execution_count": 3,
   "metadata": {},
   "outputs": [
    {
     "name": "stdout",
     "output_type": "stream",
     "text": [
      "True\n",
      "True\n",
      "False\n",
      "[('orange', 80), ('mango', 99), ('grapes', 1000)]\n",
      "[1, 4, 9, 16, 25, 36, 49, 64, 81, 100]\n",
      "[1.0, 1.26, 1.44, 1.59, 1.71, 1.82, 1.91, 2.0, 2.08, 2.15]\n",
      "True\n",
      "False\n",
      "[1, 3, 5, 7, 9]\n",
      "Positive: [1, 2, 3, 4, 5, 6]\n",
      "Negative: [-1, -2, -3, -4, -5]\n"
     ]
    }
   ],
   "source": [
    "# 2.\n",
    "\n",
    "#(i) Check if the string starts with a particular letter\n",
    "\n",
    "starts_with = lambda s, letter: s.startswith(letter)\n",
    "print(starts_with(\"apple\", \"a\"))  # True\n",
    "\n",
    "\n",
    "\n",
    "\n",
    "#(ii) Check if the string is numeric\n",
    "\n",
    "is_numeric = lambda s: s.isnumeric()\n",
    "print(is_numeric(\"12345\"))  # True\n",
    "print(is_numeric(\"abc123\"))  # False\n",
    "\n",
    "\n",
    "\n",
    "#(iii) Sort a list of tuples by the quantity\n",
    "\n",
    "fruits = [(\"mango\", 99), (\"orange\", 80), (\"grapes\", 1000)]\n",
    "sorted_fruits = sorted(fruits, key=lambda x: x[1])\n",
    "print(sorted_fruits)  # [('orange', 80), ('mango', 99), ('grapes', 1000)]\n",
    "\n",
    "\n",
    "\n",
    "# (iv) Find the squares of numbers from 1 to 10\n",
    "\n",
    "\n",
    "squares = list(map(lambda x: x**2, range(1, 11)))\n",
    "print(squares)  # [1, 4, 9, 16, 25, 36, 49, 64, 81, 100]\n",
    "\n",
    "\n",
    "\n",
    "# (v) Find the cube root of numbers from 1 to 10\n",
    "\n",
    "cube_roots = list(map(lambda x: round(x**(1/3), 2), range(1, 11)))\n",
    "print(cube_roots)  # [1.0, 1.26, 1.44, ..., 2.15]\n",
    "\n",
    "\n",
    "# (vi) Check if a given number is even\n",
    "\n",
    "is_even = lambda x: x % 2 == 0\n",
    "print(is_even(4))  # True\n",
    "print(is_even(5))  # False\n",
    "\n",
    "\n",
    "\n",
    "# (vii) Filter odd numbers from a given list\n",
    "\n",
    "numbers = [1, 2, 3, 4, 5, 6, 7, 8, 9, 10]\n",
    "odd_numbers = list(filter(lambda x: x % 2 != 0, numbers))\n",
    "print(odd_numbers)  # [1, 3, 5, 7, 9]\n",
    "\n",
    "\n",
    "\n",
    "# (viii) Sort a list of integers into positive and negative integers lists\n",
    "\n",
    "nums = [1, 2, 3, 4, 5, 6, -1, -2, -3, -4, -5, 0]\n",
    "positive = list(filter(lambda x: x > 0, nums))\n",
    "negative = list(filter(lambda x: x < 0, nums))\n",
    "print(\"Positive:\", positive)  # [1, 2, 3, 4, 5, 6]\n",
    "print(\"Negative:\", negative)  # [-1, -2, -3, -4, -5]\n"
   ]
  },
  {
   "cell_type": "code",
   "execution_count": null,
   "metadata": {},
   "outputs": [],
   "source": []
  }
 ],
 "metadata": {
  "kernelspec": {
   "display_name": "Python 3",
   "language": "python",
   "name": "python3"
  },
  "language_info": {
   "codemirror_mode": {
    "name": "ipython",
    "version": 3
   },
   "file_extension": ".py",
   "mimetype": "text/x-python",
   "name": "python",
   "nbconvert_exporter": "python",
   "pygments_lexer": "ipython3",
   "version": "3.11.9"
  }
 },
 "nbformat": 4,
 "nbformat_minor": 2
}
